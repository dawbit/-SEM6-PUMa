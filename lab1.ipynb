{
 "cells": [
  {
   "cell_type": "code",
   "execution_count": 2,
   "metadata": {},
   "outputs": [
    {
     "name": "stdout",
     "output_type": "stream",
     "text": [
      "[2.68349703 2.99049088 1.6142212  0.12591234]\n"
     ]
    },
    {
     "data": {
      "image/png": "[encoded data removed]",
      "text/plain": [
       "<Figure size 432x288 with 1 Axes>"
      ]
     },
     "metadata": {
      "needs_background": "light"
     },
     "output_type": "display_data"
    }
   ],
   "source": [
    "import numpy as np\n",
    "import matplotlib.pyplot as plt\n",
    "from numpy import pi\n",
    "\n",
    "\n",
    "a = np.arange(10)\n",
    "a = a.reshape(2,5)\n",
    "\n",
    "#print(a.shape)\n",
    "#print(a.size)\n",
    "\n",
    "b1 = np.array([1.1, 1.2, 2.1, 3.4])\n",
    "b2 = np.array([1.0, 0.2, 0.2, 1.3])\n",
    "\n",
    "difference = b1 - b2\n",
    "\n",
    "#print(difference<1)\n",
    "\n",
    "arguments = np.array([0.0, pi/2, 3*pi/2, 2*pi])\n",
    "sin_function = np.sin(arguments)\n",
    "\n",
    "#print(sin_function)\n",
    "\n",
    "c = np.zeros((5,4))\n",
    "d = np.ones((5,4))\n",
    "\n",
    "e = np.arange(0, 100, 4)\n",
    "e = np.where(e > 50, 1, e)\n",
    "\n",
    "f = np.linspace(1, 2, 20)\n",
    "\n",
    "x = np.linspace(0, 2*pi, 100)\n",
    "f = np.cos(x)\n",
    "\n",
    "plt.plot(x, f, color='red', linewidth=1)\n",
    "plt.xlabel('x')\n",
    "plt.ylabel('cos(x)')\n",
    "#plt.show()\n",
    "\n",
    "A = np.array([[0,1], [2, 3]])\n",
    "B = np.array([[1,5], [2, 0]])\n",
    "\n",
    "#print(A*B)\n",
    "#print(A.dot(B))\n",
    "\n",
    "a = np.array([[1, 8, 3], [5, 1, 0], [-1, 2, 3]])\n",
    "max_row = a.argmax(axis=1)\n",
    "max_col = a.argmax(axis=0)\n",
    "\n",
    "#print(max_row)\n",
    "#print(max_col)\n",
    "\n",
    "a = np.random.exponential(2, 4)\n",
    "\n",
    "print(a)"
   ]
  },
  {
   "cell_type": "code",
   "execution_count": 4,
   "metadata": {},
   "outputs": [
    {
     "name": "stdout",
     "output_type": "stream",
     "text": [
      "[19 19 17 15 20]\n",
      "[12 32 17 29]\n"
     ]
    }
   ],
   "source": [
    "b = np.random.randint(0, 10, 20)\n",
    "b = b.reshape(4,5)\n",
    "column_sum = b.sum(axis=0)\n",
    "row_sum = b.sum(axis=1)\n",
    "\n",
    "print(column_sum)\n",
    "print(row_sum)"
   ]
  },
  {
   "cell_type": "code",
   "execution_count": 14,
   "metadata": {},
   "outputs": [
    {
     "name": "stdout",
     "output_type": "stream",
     "text": [
      "[1 0 6 4]\n",
      "[1 3 2 0 1 5 6 1 3 4 1 2]\n",
      "[[1 0 6 4]\n",
      " [3 1 1 1]\n",
      " [2 5 3 2]]\n"
     ]
    }
   ],
   "source": [
    "A = np.array([[1, 3, 2], [0, 1, 5], [6, 1, 3], [4, 1, 2]])\n",
    "print(A[:, 0])\n",
    "print(A.ravel())\n",
    "print(A.T)"
   ]
  },
  {
   "cell_type": "code",
   "execution_count": 17,
   "metadata": {},
   "outputs": [
    {
     "name": "stdout",
     "output_type": "stream",
     "text": [
      "[[1.  3.  2. ]\n",
      " [0.  1.  5. ]\n",
      " [6.  1.  3. ]\n",
      " [4.  1.  2. ]\n",
      " [0.  0.5 3. ]]\n"
     ]
    }
   ],
   "source": [
    "B = np.array([0, 0.5, 3])\n",
    "C = np.vstack((A, B))\n",
    "print(C)"
   ]
  },
  {
   "cell_type": "code",
   "execution_count": 18,
   "metadata": {},
   "outputs": [
    {
     "name": "stdout",
     "output_type": "stream",
     "text": [
      "[[1.  3.  2.  0.  3.4]\n",
      " [0.  1.  5.  1.  2. ]\n",
      " [6.  1.  3.  1.  1. ]\n",
      " [4.  1.  2.  1.  9. ]]\n"
     ]
    }
   ],
   "source": [
    "B = np.array([[0, 3.4], [1, 2], [1,1], [1,9]])\n",
    "D = np.hstack((A, B))\n",
    "print(D)"
   ]
  },
  {
   "cell_type": "code",
   "execution_count": 19,
   "metadata": {},
   "outputs": [
    {
     "data": {
      "text/plain": [
       "True"
      ]
     },
     "execution_count": 19,
     "metadata": {},
     "output_type": "execute_result"
    }
   ],
   "source": [
    "a = np.zeros((3,2))\n",
    "b = a\n",
    "b is a"
   ]
  },
  {
   "cell_type": "code",
   "execution_count": 20,
   "metadata": {},
   "outputs": [
    {
     "data": {
      "text/plain": [
       "False"
      ]
     },
     "execution_count": 20,
     "metadata": {},
     "output_type": "execute_result"
    }
   ],
   "source": [
    "c = a.copy()\n",
    "c is a"
   ]
  },
  {
   "cell_type": "code",
   "execution_count": 21,
   "metadata": {},
   "outputs": [
    {
     "name": "stdout",
     "output_type": "stream",
     "text": [
      "[[  0 100 200 300 400 500 600 700 800 900]]\n"
     ]
    }
   ],
   "source": [
    "a = np.arange(1000)\n",
    "b = a[:100].copy()\n",
    "b = np.array(np.where(a % 100 == 0))\n",
    "print(b)"
   ]
  },
  {
   "cell_type": "code",
   "execution_count": 23,
   "metadata": {},
   "outputs": [
    {
     "data": {
      "text/plain": [
       "array([0.79331353, 0.79331353, 1.29914636, 0.1024384 , 0.24499295])"
      ]
     },
     "execution_count": 23,
     "metadata": {},
     "output_type": "execute_result"
    }
   ],
   "source": [
    "a = np.random.exponential(2, 15)\n",
    "indexes = np.array([2, 2, 5, 3, 11])\n",
    "a[indexes]"
   ]
  },
  {
   "cell_type": "code",
   "execution_count": 25,
   "metadata": {},
   "outputs": [
    {
     "data": {
      "text/plain": [
       "array([[1.23025782, 1.50645615],\n",
       "       [0.75931481, 0.15622418]])"
      ]
     },
     "execution_count": 25,
     "metadata": {},
     "output_type": "execute_result"
    }
   ],
   "source": [
    "a = a.reshape(3,5)\n",
    "row_indexes = np.array([[0,2], [2,1]])\n",
    "col_indexes = np.array([[1,3], [0,1]])\n",
    "a[row_indexes, col_indexes]"
   ]
  },
  {
   "cell_type": "code",
   "execution_count": 28,
   "metadata": {},
   "outputs": [
    {
     "name": "stdout",
     "output_type": "stream",
     "text": [
      "[  0   1   2   3   4   5   6   7   8   9  10  11  12  13  14  15  16  17\n",
      "  18  19  20  21  22  23  24  25  26  27  28  29  30  31  32  33  34  35\n",
      "  36  37  38  39  40  41  42  43  44  45  46  47  48  49  50  51  52  53\n",
      "  54  55  56  57  58  59  60  61  62  63  64  65  66  67  68  69  70  71\n",
      "  72  73  74  75  76  77  78  79  80  81  82  83  84  85  86  87  88  89\n",
      "  90  91  92  93  94  95  96  97  98  99 100 101 102 103 104 105 106 107\n",
      " 108 109 110 111 112 113 114 115 116 117 118 119 120 121 122 123 124 125\n",
      " 126 127 128 129 130 131 132 133 134 135 136 137 138 139 140 141 142 143\n",
      " 144 145 146 147 148 149 150 151 152 153 154 155 156 157 158 159 160 161\n",
      " 162 163 164 165 166 167 168 169 170 171 172 173 174 175 176 177 178 179\n",
      " 180 181 182 183 184 185 186 187 188 189 190 191 192 193 194 195 196 197\n",
      " 198 199 200 201 202 203 204 205 206 207 208 209 210 211 212 213 214 215\n",
      " 216 217 218 219 220 221 222 223 224 225 226 227 228 229 230 231 232 233\n",
      " 234 235 236 237 238 239 240 241 242 243 244 245 246 247 248 249 250 251\n",
      " 252 253 254 255 256 257 258 259 260 261 262 263 264 265 266 267 268 269\n",
      " 270 271 272 273 274 275 276 277 278 279 280 281 282 283 284 285 286 287\n",
      " 288 289 290 291 292 293 294 295 296 297 298 299]\n"
     ]
    }
   ],
   "source": [
    "test_table = np.arange(0, 300)\n",
    "test_table.reshape(50, 3, 2)\n",
    "print(test_table)"
   ]
  },
  {
   "cell_type": "code",
   "execution_count": 32,
   "metadata": {},
   "outputs": [
    {
     "data": {
      "text/plain": [
       "array([[1., 0., 0.],\n",
       "       [0., 1., 0.],\n",
       "       [0., 0., 1.]])"
      ]
     },
     "execution_count": 32,
     "metadata": {},
     "output_type": "execute_result"
    }
   ],
   "source": [
    "unit = np.eye(3)\n",
    "unit"
   ]
  },
  {
   "cell_type": "code",
   "execution_count": 35,
   "metadata": {},
   "outputs": [
    {
     "data": {
      "text/plain": [
       "array([[ 0.25  ,  0.625 , -0.5   ],\n",
       "       [ 0.375 , -0.3125,  0.25  ],\n",
       "       [-0.125 , -0.0625,  0.25  ]])"
      ]
     },
     "execution_count": 35,
     "metadata": {},
     "output_type": "execute_result"
    }
   ],
   "source": [
    "a = np.array([[1,2,0],[2,0,4],[1,1,5]])\n",
    "np.linalg.inv(a)"
   ]
  },
  {
   "cell_type": "code",
   "execution_count": 36,
   "metadata": {},
   "outputs": [
    {
     "data": {
      "image/png": "[encoded data removed]",
      "text/plain": [
       "<Figure size 432x288 with 1 Axes>"
      ]
     },
     "metadata": {
      "needs_background": "light"
     },
     "output_type": "display_data"
    }
   ],
   "source": [
    "X = np.linspace(0, 10, 100)\n",
    "plt.plot(X, X**2, label='$x^{2}$')\n",
    "plt.plot(X, X**3, label='$x^{3}$')\n",
    "plt.plot(X, np.cos(x), label='$cos(x)$')\n",
    "plt.title('Wykresy funkcji')\n",
    "plt.legend()\n",
    "plt.show()"
   ]
  }
 ],
 "metadata": {
  "kernelspec": {
   "display_name": "Python 3",
   "language": "python",
   "name": "python3"
  },
  "language_info": {
   "codemirror_mode": {
    "name": "ipython",
    "version": 3
   },
   "file_extension": ".py",
   "mimetype": "text/x-python",
   "name": "python",
   "nbconvert_exporter": "python",
   "pygments_lexer": "ipython3",
   "version": "3.8.1"
  }
 },
 "nbformat": 4,
 "nbformat_minor": 4
}
