{
 "cells": [
  {
   "cell_type": "code",
   "execution_count": 1,
   "metadata": {},
   "outputs": [
    {
     "name": "stdout",
     "output_type": "stream",
     "text": [
      "3527203753.1189446\n",
      "1173238695.7257903\n",
      "758663731.4152387\n",
      "578044606.7235354\n",
      "475043719.4869429\n",
      "399566694.90681064\n",
      "345316789.2167219\n",
      "303868055.1040411\n",
      "274083332.0193022\n",
      "244117199.26250333\n",
      "217917481.58845267\n",
      "201509650.94955048\n",
      "185649840.63285762\n",
      "173986536.8547211\n",
      "163348394.40622824\n",
      "153517514.057625\n",
      "145294753.38981035\n",
      "138552127.3207759\n",
      "Optymalna ilość:  18\n"
     ]
    }
   ],
   "source": [
    "import numpy as np\n",
    "import matplotlib.pyplot as plt\n",
    "from sklearn.cluster import KMeans\n",
    "from PIL import Image\n",
    "from mpl_toolkits.mplot3d import Axes3D\n",
    "\n",
    "# Klasteryzacja\n",
    "# https://scikit-learn.org/stable/modules/generated/sklearn.cluster.KMeans.html\n",
    "def clustering(data, n, method, epochs):\n",
    "    clustering = KMeans(n_clusters=n, random_state=1, init=method, max_iter=epochs).fit(data)\n",
    "    assignment = clustering.labels_\n",
    "    centroids = clustering.cluster_centers_\n",
    "    return assignment, centroids, clustering\n",
    "\n",
    "# Obliczanie optymalnej ilości\n",
    "# Optymalna liczba k wynosi 18 -> 138402200.71782959 < 1.4 * 10^8\n",
    "# https://towardsdatascience.com/machine-learning-algorithms-part-9-k-means-example-in-python-f2ad05ed5203\n",
    "def calc(pixels):\n",
    "    args = np.arange(1, 21, 1)\n",
    "    for arg in args:\n",
    "        kmeans = KMeans(n_clusters=arg, init='k-means++', max_iter=16, random_state=1).fit(pixels)\n",
    "        print(kmeans.inertia_)\n",
    "        optimum = kmeans.inertia_ < 1.4 * 10**8\n",
    "        if optimum:\n",
    "            print('Optymalna ilość: ', arg)\n",
    "            return arg\n",
    "    return arg\n",
    "\n",
    "# Konwersja do PNG\n",
    "def convert(pixels):\n",
    "    n = calc(pixels)\n",
    "    make_cluster, assigment, centroids = clustering(pixels, n, 'k-means++', 300)     \n",
    "    for pixel in range(len(centroids)):\n",
    "        for color in range(len(centroids[pixel])):\n",
    "            centroids[pixel][color] = round(centroids[pixel][color])\n",
    "\n",
    "    centroids = centroids.astype(np.int64) \n",
    "    result = list()\n",
    "    for label in make_cluster.predict(pixels):\n",
    "        result.append(tuple(centroids[label]))   \n",
    "    return result\n",
    "\n",
    "if __name__ == \"__main__\":\n",
    "    im = Image.open(\"landscape.jpg\")\n",
    "    pixels = list(im.getdata())\n",
    "    for index in range(len(pixels)):\n",
    "        pixels[index] = list(pixels[index])\n",
    "    pixels = np.array(pixels)\n",
    "    new = convert(pixels)\n",
    "    im2 = Image.new(im.mode, im.size)\n",
    "    im2.putdata(new)\n",
    "    filename = \"result.png\"\n",
    "    im2.save(filename, \"PNG\")"
   ]
  }
 ],
 "metadata": {
  "kernelspec": {
   "display_name": "Python 3",
   "language": "python",
   "name": "python3"
  },
  "language_info": {
   "codemirror_mode": {
    "name": "ipython",
    "version": 3
   },
   "file_extension": ".py",
   "mimetype": "text/x-python",
   "name": "python",
   "nbconvert_exporter": "python",
   "pygments_lexer": "ipython3",
   "version": "3.7.6"
  }
 },
 "nbformat": 4,
 "nbformat_minor": 4
}
