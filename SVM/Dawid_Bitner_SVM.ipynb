{
 "cells": [
  {
   "cell_type": "markdown",
   "metadata": {},
   "source": [
    "# Importy"
   ]
  },
  {
   "cell_type": "code",
   "execution_count": 1,
   "metadata": {},
   "outputs": [
    {
     "data": {
      "text/html": [
       "<div>\n",
       "<style scoped>\n",
       "    .dataframe tbody tr th:only-of-type {\n",
       "        vertical-align: middle;\n",
       "    }\n",
       "\n",
       "    .dataframe tbody tr th {\n",
       "        vertical-align: top;\n",
       "    }\n",
       "\n",
       "    .dataframe thead th {\n",
       "        text-align: right;\n",
       "    }\n",
       "</style>\n",
       "<table border=\"1\" class=\"dataframe\">\n",
       "  <thead>\n",
       "    <tr style=\"text-align: right;\">\n",
       "      <th></th>\n",
       "      <th>A</th>\n",
       "      <th>B</th>\n",
       "      <th>C</th>\n",
       "      <th>D</th>\n",
       "      <th>E</th>\n",
       "      <th>F</th>\n",
       "    </tr>\n",
       "  </thead>\n",
       "  <tbody>\n",
       "    <tr>\n",
       "      <th>0</th>\n",
       "      <td>0.08</td>\n",
       "      <td>0.08</td>\n",
       "      <td>0.10</td>\n",
       "      <td>0.24</td>\n",
       "      <td>0.90</td>\n",
       "      <td>3</td>\n",
       "    </tr>\n",
       "    <tr>\n",
       "      <th>1</th>\n",
       "      <td>0.06</td>\n",
       "      <td>0.06</td>\n",
       "      <td>0.05</td>\n",
       "      <td>0.25</td>\n",
       "      <td>0.33</td>\n",
       "      <td>1</td>\n",
       "    </tr>\n",
       "    <tr>\n",
       "      <th>2</th>\n",
       "      <td>0.10</td>\n",
       "      <td>0.10</td>\n",
       "      <td>0.15</td>\n",
       "      <td>0.65</td>\n",
       "      <td>0.30</td>\n",
       "      <td>2</td>\n",
       "    </tr>\n",
       "    <tr>\n",
       "      <th>3</th>\n",
       "      <td>0.08</td>\n",
       "      <td>0.08</td>\n",
       "      <td>0.08</td>\n",
       "      <td>0.98</td>\n",
       "      <td>0.24</td>\n",
       "      <td>1</td>\n",
       "    </tr>\n",
       "    <tr>\n",
       "      <th>4</th>\n",
       "      <td>0.09</td>\n",
       "      <td>0.15</td>\n",
       "      <td>0.40</td>\n",
       "      <td>0.10</td>\n",
       "      <td>0.66</td>\n",
       "      <td>2</td>\n",
       "    </tr>\n",
       "    <tr>\n",
       "      <th>...</th>\n",
       "      <td>...</td>\n",
       "      <td>...</td>\n",
       "      <td>...</td>\n",
       "      <td>...</td>\n",
       "      <td>...</td>\n",
       "      <td>...</td>\n",
       "    </tr>\n",
       "    <tr>\n",
       "      <th>252</th>\n",
       "      <td>0.61</td>\n",
       "      <td>0.78</td>\n",
       "      <td>0.69</td>\n",
       "      <td>0.92</td>\n",
       "      <td>0.58</td>\n",
       "      <td>3</td>\n",
       "    </tr>\n",
       "    <tr>\n",
       "      <th>253</th>\n",
       "      <td>0.78</td>\n",
       "      <td>0.61</td>\n",
       "      <td>0.71</td>\n",
       "      <td>0.19</td>\n",
       "      <td>0.60</td>\n",
       "      <td>2</td>\n",
       "    </tr>\n",
       "    <tr>\n",
       "      <th>254</th>\n",
       "      <td>0.54</td>\n",
       "      <td>0.82</td>\n",
       "      <td>0.71</td>\n",
       "      <td>0.29</td>\n",
       "      <td>0.77</td>\n",
       "      <td>3</td>\n",
       "    </tr>\n",
       "    <tr>\n",
       "      <th>255</th>\n",
       "      <td>0.50</td>\n",
       "      <td>0.75</td>\n",
       "      <td>0.81</td>\n",
       "      <td>0.61</td>\n",
       "      <td>0.26</td>\n",
       "      <td>2</td>\n",
       "    </tr>\n",
       "    <tr>\n",
       "      <th>256</th>\n",
       "      <td>0.66</td>\n",
       "      <td>0.90</td>\n",
       "      <td>0.76</td>\n",
       "      <td>0.87</td>\n",
       "      <td>0.74</td>\n",
       "      <td>3</td>\n",
       "    </tr>\n",
       "  </tbody>\n",
       "</table>\n",
       "<p>257 rows × 6 columns</p>\n",
       "</div>"
      ],
      "text/plain": [
       "        A     B     C     D     E  F\n",
       "0    0.08  0.08  0.10  0.24  0.90  3\n",
       "1    0.06  0.06  0.05  0.25  0.33  1\n",
       "2    0.10  0.10  0.15  0.65  0.30  2\n",
       "3    0.08  0.08  0.08  0.98  0.24  1\n",
       "4    0.09  0.15  0.40  0.10  0.66  2\n",
       "..    ...   ...   ...   ...   ... ..\n",
       "252  0.61  0.78  0.69  0.92  0.58  3\n",
       "253  0.78  0.61  0.71  0.19  0.60  2\n",
       "254  0.54  0.82  0.71  0.29  0.77  3\n",
       "255  0.50  0.75  0.81  0.61  0.26  2\n",
       "256  0.66  0.90  0.76  0.87  0.74  3\n",
       "\n",
       "[257 rows x 6 columns]"
      ]
     },
     "execution_count": 1,
     "metadata": {},
     "output_type": "execute_result"
    }
   ],
   "source": [
    "import numpy as np\n",
    "import matplotlib.pyplot as plt\n",
    "import pandas as pd\n",
    "from sklearn import svm, datasets\n",
    "from sklearn.model_selection import train_test_split, GridSearchCV, RandomizedSearchCV\n",
    "df = pd.read_csv(\"Data_User_Modeling_Dataset.csv\", header=0, names=['A', 'B', 'C', 'D', 'E', 'F'], index_col=False)\n",
    "df"
   ]
  },
  {
   "cell_type": "markdown",
   "metadata": {},
   "source": [
    "### Podział na zbiór treningowy i testowy"
   ]
  },
  {
   "cell_type": "code",
   "execution_count": 2,
   "metadata": {
    "scrolled": true
   },
   "outputs": [
    {
     "data": {
      "text/html": [
       "<div>\n",
       "<style scoped>\n",
       "    .dataframe tbody tr th:only-of-type {\n",
       "        vertical-align: middle;\n",
       "    }\n",
       "\n",
       "    .dataframe tbody tr th {\n",
       "        vertical-align: top;\n",
       "    }\n",
       "\n",
       "    .dataframe thead th {\n",
       "        text-align: right;\n",
       "    }\n",
       "</style>\n",
       "<table border=\"1\" class=\"dataframe\">\n",
       "  <thead>\n",
       "    <tr style=\"text-align: right;\">\n",
       "      <th></th>\n",
       "      <th>A</th>\n",
       "      <th>B</th>\n",
       "      <th>C</th>\n",
       "      <th>D</th>\n",
       "      <th>E</th>\n",
       "    </tr>\n",
       "  </thead>\n",
       "  <tbody>\n",
       "    <tr>\n",
       "      <th>134</th>\n",
       "      <td>0.410</td>\n",
       "      <td>0.180</td>\n",
       "      <td>0.33</td>\n",
       "      <td>0.31</td>\n",
       "      <td>0.50</td>\n",
       "    </tr>\n",
       "    <tr>\n",
       "      <th>229</th>\n",
       "      <td>0.730</td>\n",
       "      <td>0.430</td>\n",
       "      <td>0.32</td>\n",
       "      <td>0.12</td>\n",
       "      <td>0.65</td>\n",
       "    </tr>\n",
       "    <tr>\n",
       "      <th>151</th>\n",
       "      <td>0.360</td>\n",
       "      <td>0.290</td>\n",
       "      <td>0.37</td>\n",
       "      <td>0.48</td>\n",
       "      <td>0.13</td>\n",
       "    </tr>\n",
       "    <tr>\n",
       "      <th>90</th>\n",
       "      <td>0.320</td>\n",
       "      <td>0.255</td>\n",
       "      <td>0.55</td>\n",
       "      <td>0.78</td>\n",
       "      <td>0.34</td>\n",
       "    </tr>\n",
       "    <tr>\n",
       "      <th>120</th>\n",
       "      <td>0.255</td>\n",
       "      <td>0.750</td>\n",
       "      <td>0.35</td>\n",
       "      <td>0.72</td>\n",
       "      <td>0.25</td>\n",
       "    </tr>\n",
       "    <tr>\n",
       "      <th>...</th>\n",
       "      <td>...</td>\n",
       "      <td>...</td>\n",
       "      <td>...</td>\n",
       "      <td>...</td>\n",
       "      <td>...</td>\n",
       "    </tr>\n",
       "    <tr>\n",
       "      <th>22</th>\n",
       "      <td>0.180</td>\n",
       "      <td>0.310</td>\n",
       "      <td>0.32</td>\n",
       "      <td>0.42</td>\n",
       "      <td>0.28</td>\n",
       "    </tr>\n",
       "    <tr>\n",
       "      <th>72</th>\n",
       "      <td>0.300</td>\n",
       "      <td>0.200</td>\n",
       "      <td>0.52</td>\n",
       "      <td>0.30</td>\n",
       "      <td>0.53</td>\n",
       "    </tr>\n",
       "    <tr>\n",
       "      <th>237</th>\n",
       "      <td>0.620</td>\n",
       "      <td>0.370</td>\n",
       "      <td>0.81</td>\n",
       "      <td>0.13</td>\n",
       "      <td>0.64</td>\n",
       "    </tr>\n",
       "    <tr>\n",
       "      <th>15</th>\n",
       "      <td>0.050</td>\n",
       "      <td>0.070</td>\n",
       "      <td>0.70</td>\n",
       "      <td>0.01</td>\n",
       "      <td>0.05</td>\n",
       "    </tr>\n",
       "    <tr>\n",
       "      <th>168</th>\n",
       "      <td>0.410</td>\n",
       "      <td>0.490</td>\n",
       "      <td>0.34</td>\n",
       "      <td>0.21</td>\n",
       "      <td>0.92</td>\n",
       "    </tr>\n",
       "  </tbody>\n",
       "</table>\n",
       "<p>179 rows × 5 columns</p>\n",
       "</div>"
      ],
      "text/plain": [
       "         A      B     C     D     E\n",
       "134  0.410  0.180  0.33  0.31  0.50\n",
       "229  0.730  0.430  0.32  0.12  0.65\n",
       "151  0.360  0.290  0.37  0.48  0.13\n",
       "90   0.320  0.255  0.55  0.78  0.34\n",
       "120  0.255  0.750  0.35  0.72  0.25\n",
       "..     ...    ...   ...   ...   ...\n",
       "22   0.180  0.310  0.32  0.42  0.28\n",
       "72   0.300  0.200  0.52  0.30  0.53\n",
       "237  0.620  0.370  0.81  0.13  0.64\n",
       "15   0.050  0.070  0.70  0.01  0.05\n",
       "168  0.410  0.490  0.34  0.21  0.92\n",
       "\n",
       "[179 rows x 5 columns]"
      ]
     },
     "execution_count": 2,
     "metadata": {},
     "output_type": "execute_result"
    }
   ],
   "source": [
    "X_train, X_test, y_train, y_test = train_test_split(df.drop('F', axis=1), df['F'], random_state=2, test_size=0.3)\n",
    "X_train"
   ]
  },
  {
   "cell_type": "markdown",
   "metadata": {},
   "source": [
    "### podstawowy model, jego skutecznosć"
   ]
  },
  {
   "cell_type": "code",
   "execution_count": 3,
   "metadata": {},
   "outputs": [
    {
     "data": {
      "text/plain": [
       "0.7948717948717948"
      ]
     },
     "execution_count": 3,
     "metadata": {},
     "output_type": "execute_result"
    }
   ],
   "source": [
    "base_model = svm.SVC(kernel='linear', C=1.0)\n",
    "base_model.fit(X_train, y_train)\n",
    "base_model.score(X_test, y_test)"
   ]
  },
  {
   "cell_type": "markdown",
   "metadata": {},
   "source": [
    "### Testowanie różnych parametrów"
   ]
  },
  {
   "cell_type": "code",
   "execution_count": 4,
   "metadata": {},
   "outputs": [
    {
     "name": "stdout",
     "output_type": "stream",
     "text": [
      "Fitting 4 folds for each of 13500 candidates, totalling 54000 fits\n"
     ]
    },
    {
     "name": "stderr",
     "output_type": "stream",
     "text": [
      "[Parallel(n_jobs=-1)]: Using backend LokyBackend with 4 concurrent workers.\n",
      "[Parallel(n_jobs=-1)]: Done  48 tasks      | elapsed:    4.1s\n",
      "[Parallel(n_jobs=-1)]: Done 2260 tasks      | elapsed:   10.1s\n",
      "[Parallel(n_jobs=-1)]: Done 6260 tasks      | elapsed:   23.2s\n",
      "[Parallel(n_jobs=-1)]: Done 11860 tasks      | elapsed:   47.2s\n",
      "[Parallel(n_jobs=-1)]: Done 19060 tasks      | elapsed:  1.2min\n",
      "[Parallel(n_jobs=-1)]: Done 27860 tasks      | elapsed:  1.8min\n",
      "[Parallel(n_jobs=-1)]: Done 38260 tasks      | elapsed:  2.3min\n",
      "[Parallel(n_jobs=-1)]: Done 50260 tasks      | elapsed:  2.9min\n",
      "[Parallel(n_jobs=-1)]: Done 54000 out of 54000 | elapsed:  3.0min finished\n"
     ]
    },
    {
     "name": "stdout",
     "output_type": "stream",
     "text": [
      "Best params: {'C': 9.658620689655173, 'degree': 1.0, 'gamma': 1.0, 'kernel': 'rbf'}\n",
      "Best score 0.9555555555555556\n",
      "0.8974358974358975\n",
      "Fitting 4 folds for each of 10 candidates, totalling 40 fits\n"
     ]
    },
    {
     "name": "stderr",
     "output_type": "stream",
     "text": [
      "[Parallel(n_jobs=-1)]: Using backend LokyBackend with 4 concurrent workers.\n"
     ]
    },
    {
     "name": "stdout",
     "output_type": "stream",
     "text": [
      "Best params: {'kernel': 'rbf', 'gamma': 0.5655172413793104, 'degree': 2.0, 'C': 5.562068965517241}\n",
      "Best score: 0.921969696969697\n",
      "0.9102564102564102\n"
     ]
    },
    {
     "name": "stderr",
     "output_type": "stream",
     "text": [
      "[Parallel(n_jobs=-1)]: Done  40 out of  40 | elapsed:    0.2s finished\n"
     ]
    }
   ],
   "source": [
    "svc = svm.SVC()\n",
    "params = {\n",
    "    'kernel': ('linear', 'rbf', 'poly'),\n",
    "    'C': np.linspace(.1, 10, 30),\n",
    "    'gamma': np.linspace(.1, 1, 30),\n",
    "    'degree': np.linspace(1, 5, 5),\n",
    "}\n",
    "svcGS = GridSearchCV(svc, params, cv=4, verbose=1, n_jobs=-1)\n",
    "svcGS.fit(X_train, y_train)\n",
    "print(\"Best params:\", svcGS.best_params_)\n",
    "print(\"Best score\", svcGS.best_score_)\n",
    "svcGS.score(X_test, y_test)\n",
    "print(svcGS.score(X_test, y_test))\n",
    "\n",
    "svcRS = RandomizedSearchCV(svc, params, cv=4, random_state=2, verbose=1, n_jobs=-1)\n",
    "svcRS.fit(X_train, y_train)\n",
    "print('Best params: ' + str(svcRS.best_params_))\n",
    "print('Best score: ' + str(svcRS.best_score_))\n",
    "svcRS.score(X_test, y_test)\n",
    "print(svcRS.score(X_test, y_test))"
   ]
  },
  {
   "cell_type": "markdown",
   "metadata": {},
   "source": [
    "Skuteczność: GridSearchCV ~0.90, RandomizedSearchCV ~0.91"
   ]
  },
  {
   "cell_type": "markdown",
   "metadata": {},
   "source": [
    "### Testowanie parametrów z mniejszymi zakresami"
   ]
  },
  {
   "cell_type": "code",
   "execution_count": 5,
   "metadata": {},
   "outputs": [
    {
     "name": "stderr",
     "output_type": "stream",
     "text": [
      "[Parallel(n_jobs=-1)]: Using backend LokyBackend with 4 concurrent workers.\n"
     ]
    },
    {
     "name": "stdout",
     "output_type": "stream",
     "text": [
      "Fitting 4 folds for each of 150 candidates, totalling 600 fits\n"
     ]
    },
    {
     "name": "stderr",
     "output_type": "stream",
     "text": [
      "[Parallel(n_jobs=-1)]: Done 280 tasks      | elapsed:    1.1s\n",
      "[Parallel(n_jobs=-1)]: Done 600 out of 600 | elapsed:    2.2s finished\n",
      "[Parallel(n_jobs=-1)]: Using backend LokyBackend with 4 concurrent workers.\n"
     ]
    },
    {
     "name": "stdout",
     "output_type": "stream",
     "text": [
      "Best params: {'C': 3.0, 'gamma': 0.9666666666666667, 'kernel': 'rbf'}\n",
      "Best score: 0.921969696969697\n",
      "0.9102564102564102\n",
      "Fitting 4 folds for each of 10 candidates, totalling 40 fits\n",
      "Best params: {'kernel': 'linear', 'gamma': 0.9333333333333333, 'C': 3.0}\n",
      "Best score: 0.899621212121212\n",
      "0.8333333333333334\n"
     ]
    },
    {
     "name": "stderr",
     "output_type": "stream",
     "text": [
      "[Parallel(n_jobs=-1)]: Done  40 out of  40 | elapsed:    0.2s finished\n"
     ]
    }
   ],
   "source": [
    "params2 = {\n",
    "    'kernel': ('linear', 'rbf', 'poly'),\n",
    "    'C': np.linspace(2, 3, 5),\n",
    "    'gamma': np.linspace(0.9, 1.0, 10),\n",
    "}\n",
    "svcGS = GridSearchCV(svc, params2, cv=4, verbose=1, n_jobs=-1)\n",
    "svcGS.fit(X_train, y_train)\n",
    "print(\"Best params:\", svcGS.best_params_)\n",
    "print(\"Best score:\", svcGS.best_score_)\n",
    "svcGS.score(X_test, y_test)\n",
    "print(svcGS.score(X_test, y_test))\n",
    "\n",
    "svcRS = RandomizedSearchCV(svc, params2, cv=4, random_state=2, verbose=1, n_jobs=-1)\n",
    "svcRS.fit(X_train, y_train)\n",
    "print('Best params: ' + str(svcRS.best_params_))\n",
    "print('Best score: ' + str(svcRS.best_score_))\n",
    "svcRS.score(X_test, y_test)\n",
    "print(svcRS.score(X_test, y_test))"
   ]
  },
  {
   "cell_type": "markdown",
   "metadata": {},
   "source": [
    "Skuteczność: GridSearchCV ~0.91 (+), RandomizedSearchCV ~0.83 (-) ( w przypadku GridSearchCV, szybciej i lepiej)"
   ]
  },
  {
   "cell_type": "markdown",
   "metadata": {},
   "source": [
    "### Wnioski"
   ]
  },
  {
   "cell_type": "markdown",
   "metadata": {},
   "source": [
    "Najlepsze parametry zostały znalezione za pomocą GridSearchCV, skuteczność modelu została podniesiona z 79.5% do 91%."
   ]
  }
 ],
 "metadata": {
  "kernelspec": {
   "display_name": "Python 3",
   "language": "python",
   "name": "python3"
  },
  "language_info": {
   "codemirror_mode": {
    "name": "ipython",
    "version": 3
   },
   "file_extension": ".py",
   "mimetype": "text/x-python",
   "name": "python",
   "nbconvert_exporter": "python",
   "pygments_lexer": "ipython3",
   "version": "3.7.6"
  }
 },
 "nbformat": 4,
 "nbformat_minor": 4
}
