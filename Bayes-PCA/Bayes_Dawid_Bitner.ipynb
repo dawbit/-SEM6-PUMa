{
 "cells": [
  {
   "cell_type": "markdown",
   "metadata": {},
   "source": [
    "#### importy"
   ]
  },
  {
   "cell_type": "code",
   "execution_count": 1,
   "metadata": {},
   "outputs": [],
   "source": [
    "import numpy as np\n",
    "import matplotlib.pyplot as plt\n",
    "from sklearn.model_selection import train_test_split\n",
    "from sklearn.datasets import fetch_openml\n",
    "from sklearn.naive_bayes import GaussianNB\n",
    "from sklearn import decomposition\n",
    "from sklearn.linear_model import LogisticRegression\n",
    "from sklearn.ensemble import RandomForestClassifier"
   ]
  },
  {
   "cell_type": "markdown",
   "metadata": {},
   "source": [
    "#### załadowanie danych"
   ]
  },
  {
   "cell_type": "code",
   "execution_count": 2,
   "metadata": {},
   "outputs": [],
   "source": [
    "X, y = fetch_openml('mnist_784', version=1, return_X_y=True)\n",
    "X_train, X_test, y_train, y_test = train_test_split(X, y, test_size=0.3, random_state=2)"
   ]
  },
  {
   "cell_type": "markdown",
   "metadata": {},
   "source": [
    "#### wytrenowanie naiwnym klasyfikatorem"
   ]
  },
  {
   "cell_type": "code",
   "execution_count": 3,
   "metadata": {},
   "outputs": [],
   "source": [
    "bayes = GaussianNB()\n",
    "prediction = bayes.fit(X_train, y_train)"
   ]
  },
  {
   "cell_type": "markdown",
   "metadata": {},
   "source": [
    "#### skuteczności"
   ]
  },
  {
   "cell_type": "code",
   "execution_count": 4,
   "metadata": {},
   "outputs": [
    {
     "name": "stdout",
     "output_type": "stream",
     "text": [
      "trening : 0.5568775510204081\n",
      "test : 0.558952380952381\n"
     ]
    }
   ],
   "source": [
    "print(\"trening :\", prediction.score(X_train, y_train))\n",
    "print(\"test :\", prediction.score(X_test, y_test))"
   ]
  },
  {
   "cell_type": "markdown",
   "metadata": {},
   "source": [
    "#### PCA"
   ]
  },
  {
   "cell_type": "code",
   "execution_count": 5,
   "metadata": {},
   "outputs": [
    {
     "data": {
      "text/plain": [
       "PCA(copy=True, iterated_power='auto', n_components=784, random_state=None,\n",
       "    svd_solver='auto', tol=0.0, whiten=False)"
      ]
     },
     "execution_count": 5,
     "metadata": {},
     "output_type": "execute_result"
    }
   ],
   "source": [
    "pca = decomposition.PCA(n_components=X_train.shape[1])\n",
    "pca.fit(X_train)"
   ]
  },
  {
   "cell_type": "markdown",
   "metadata": {},
   "source": [
    "#### liczba skłądowych - pierwsza liczba dla której współczynnik wyjaśnianej zmienności przekracza 90%"
   ]
  },
  {
   "cell_type": "code",
   "execution_count": 6,
   "metadata": {},
   "outputs": [],
   "source": [
    "total_sum = np.cumsum(pca.explained_variance_ratio_)  >= .9\n",
    "components = np.argmax(total_sum >= 0.90) + 1\n",
    "# print(total_sum)"
   ]
  },
  {
   "cell_type": "markdown",
   "metadata": {},
   "source": [
    "#### MINST przekształcony przez PCA"
   ]
  },
  {
   "cell_type": "code",
   "execution_count": 7,
   "metadata": {},
   "outputs": [],
   "source": [
    "pca_best = decomposition.PCA(n_components=components)\n",
    "pca_best.fit(X_train)\n",
    "X_train_pca = pca_best.transform(X_train)\n",
    "X_test_pca = pca_best.transform(X_test)"
   ]
  },
  {
   "cell_type": "markdown",
   "metadata": {},
   "source": [
    "#### dokładność zbioru treningowego i testowego"
   ]
  },
  {
   "cell_type": "code",
   "execution_count": 8,
   "metadata": {},
   "outputs": [
    {
     "name": "stdout",
     "output_type": "stream",
     "text": [
      "trening:  0.8732040816326531\n",
      "test:  0.8724285714285714\n"
     ]
    }
   ],
   "source": [
    "bayes_pca = GaussianNB()\n",
    "model_prediction = bayes_pca.fit(X_train_pca, y_train)\n",
    "print(\"trening: \", model_prediction.score(X_train_pca, y_train))\n",
    "print(\"test: \", model_prediction.score(X_test_pca, y_test))"
   ]
  },
  {
   "cell_type": "markdown",
   "metadata": {},
   "source": [
    "#### lasy losowe"
   ]
  },
  {
   "cell_type": "code",
   "execution_count": 9,
   "metadata": {},
   "outputs": [
    {
     "name": "stdout",
     "output_type": "stream",
     "text": [
      "trening: 0.8167142857142857\n",
      "test: 0.8132380952380952\n"
     ]
    }
   ],
   "source": [
    "# przy max_iter=32 dla regresji logistycznej otrzymywałem ostrzeżenie o przekroczeniu liczby iteracji \n",
    "# dla takiego zbioru przy tych danych\n",
    "rfc = RandomForestClassifier(random_state=0, n_estimators=200, max_leaf_nodes=15).fit(X_train, y_train)\n",
    "rfc_train_acc = rfc.score(X_train, y_train)\n",
    "rfc_test_acc = rfc.score(X_test, y_test)\n",
    "print('trening:', rfc_train_acc)\n",
    "print('test:', rfc_test_acc)"
   ]
  },
  {
   "cell_type": "markdown",
   "metadata": {},
   "source": [
    "#### lasy losowe z PCA"
   ]
  },
  {
   "cell_type": "code",
   "execution_count": 10,
   "metadata": {},
   "outputs": [
    {
     "name": "stdout",
     "output_type": "stream",
     "text": [
      "trening: 0.797265306122449\n",
      "test: 0.7917619047619048\n"
     ]
    }
   ],
   "source": [
    "rfc = RandomForestClassifier(random_state=0, n_estimators=200, max_leaf_nodes=15).fit(X_train_pca, y_train)\n",
    "rfc_train_acc = rfc.score(X_train_pca, y_train)\n",
    "rfc_test_acc = rfc.score(X_test_pca, y_test)\n",
    "print('trening:', rfc_train_acc)\n",
    "print('test:', rfc_test_acc)"
   ]
  },
  {
   "cell_type": "markdown",
   "metadata": {},
   "source": [
    "Po przekształceniu MINST przez PCA skuteczność zarówno dla danych testowych i treningowych wzrasta znacząco w porównaniu do samego wytrenowania przez naiwny klasyfikator: ~56% -> 87%\n",
    "Zastosowanie PCA dla lasów losowych w powyższym przypadku zmniejsza ich skuteczność, w zamian proces nauczania zajmuje mniej czasu. Spadek z ~81% do ~80%."
   ]
  }
 ],
 "metadata": {
  "kernelspec": {
   "display_name": "Python 3",
   "language": "python",
   "name": "python3"
  },
  "language_info": {
   "codemirror_mode": {
    "name": "ipython",
    "version": 3
   },
   "file_extension": ".py",
   "mimetype": "text/x-python",
   "name": "python",
   "nbconvert_exporter": "python",
   "pygments_lexer": "ipython3",
   "version": "3.7.6"
  }
 },
 "nbformat": 4,
 "nbformat_minor": 4
}
