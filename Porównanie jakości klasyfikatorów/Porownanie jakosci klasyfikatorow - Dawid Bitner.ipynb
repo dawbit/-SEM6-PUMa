{
 "cells": [
  {
   "cell_type": "markdown",
   "metadata": {},
   "source": [
    "**Biblioteki, wczytanie danych, podział na zbiór treningowy i testowy**"
   ]
  },
  {
   "cell_type": "code",
   "execution_count": 1,
   "metadata": {},
   "outputs": [
    {
     "name": "stdout",
     "output_type": "stream",
     "text": [
      "[[  0.   380.     3.61   3.  ]\n",
      " [  1.   660.     3.67   3.  ]\n",
      " [  1.   800.     4.     1.  ]\n",
      " ...\n",
      " [  0.   460.     2.63   2.  ]\n",
      " [  0.   700.     3.65   2.  ]\n",
      " [  0.   600.     3.89   3.  ]]\n"
     ]
    },
    {
     "data": {
      "text/plain": [
       "(array([[360.  ,   3.27,   3.  ],\n",
       "        [500.  ,   3.08,   3.  ],\n",
       "        [800.  ,   4.  ,   3.  ],\n",
       "        [640.  ,   3.12,   3.  ],\n",
       "        [700.  ,   3.56,   2.  ],\n",
       "        [360.  ,   3.14,   1.  ],\n",
       "        [600.  ,   3.28,   3.  ],\n",
       "        [480.  ,   3.57,   2.  ],\n",
       "        [520.  ,   2.98,   2.  ],\n",
       "        [560.  ,   3.32,   4.  ],\n",
       "        [720.  ,   3.77,   3.  ],\n",
       "        [660.  ,   3.45,   4.  ],\n",
       "        [800.  ,   3.31,   3.  ],\n",
       "        [660.  ,   3.88,   2.  ],\n",
       "        [580.  ,   3.29,   4.  ],\n",
       "        [660.  ,   3.7 ,   4.  ],\n",
       "        [400.  ,   2.93,   3.  ],\n",
       "        [580.  ,   3.46,   2.  ],\n",
       "        [460.  ,   3.14,   3.  ],\n",
       "        [560.  ,   3.04,   3.  ],\n",
       "        [800.  ,   2.9 ,   2.  ],\n",
       "        [580.  ,   4.  ,   2.  ],\n",
       "        [700.  ,   4.  ,   3.  ],\n",
       "        [540.  ,   3.49,   2.  ],\n",
       "        [540.  ,   3.28,   3.  ],\n",
       "        [740.  ,   3.34,   4.  ],\n",
       "        [520.  ,   3.29,   1.  ],\n",
       "        [500.  ,   3.88,   4.  ],\n",
       "        [520.  ,   4.  ,   1.  ],\n",
       "        [540.  ,   3.33,   3.  ],\n",
       "        [440.  ,   3.13,   4.  ],\n",
       "        [580.  ,   3.34,   2.  ],\n",
       "        [580.  ,   3.12,   3.  ],\n",
       "        [520.  ,   3.74,   4.  ],\n",
       "        [800.  ,   4.  ,   1.  ],\n",
       "        [460.  ,   3.64,   1.  ],\n",
       "        [560.  ,   2.52,   2.  ],\n",
       "        [460.  ,   2.87,   2.  ],\n",
       "        [620.  ,   3.63,   2.  ],\n",
       "        [680.  ,   3.99,   3.  ],\n",
       "        [620.  ,   3.4 ,   2.  ],\n",
       "        [660.  ,   3.49,   2.  ],\n",
       "        [560.  ,   3.59,   2.  ],\n",
       "        [520.  ,   3.12,   2.  ],\n",
       "        [680.  ,   3.  ,   4.  ],\n",
       "        [580.  ,   3.51,   2.  ],\n",
       "        [700.  ,   3.45,   3.  ],\n",
       "        [400.  ,   3.05,   2.  ],\n",
       "        [600.  ,   3.89,   1.  ],\n",
       "        [600.  ,   3.38,   3.  ],\n",
       "        [620.  ,   3.3 ,   1.  ],\n",
       "        [760.  ,   3.35,   2.  ],\n",
       "        [420.  ,   2.96,   1.  ],\n",
       "        [700.  ,   2.94,   2.  ],\n",
       "        [520.  ,   3.81,   1.  ],\n",
       "        [460.  ,   3.15,   4.  ],\n",
       "        [580.  ,   2.93,   2.  ],\n",
       "        [420.  ,   3.41,   4.  ],\n",
       "        [440.  ,   3.24,   4.  ],\n",
       "        [640.  ,   3.51,   2.  ],\n",
       "        [660.  ,   4.  ,   1.  ],\n",
       "        [500.  ,   3.95,   4.  ],\n",
       "        [560.  ,   2.42,   2.  ],\n",
       "        [800.  ,   3.75,   2.  ],\n",
       "        [440.  ,   3.39,   2.  ],\n",
       "        [620.  ,   4.  ,   1.  ],\n",
       "        [640.  ,   3.73,   3.  ],\n",
       "        [460.  ,   3.99,   3.  ],\n",
       "        [300.  ,   2.92,   4.  ],\n",
       "        [700.  ,   3.08,   2.  ],\n",
       "        [620.  ,   3.63,   3.  ],\n",
       "        [640.  ,   3.38,   3.  ],\n",
       "        [420.  ,   3.02,   1.  ],\n",
       "        [640.  ,   3.17,   2.  ],\n",
       "        [480.  ,   3.43,   2.  ],\n",
       "        [600.  ,   3.13,   2.  ],\n",
       "        [660.  ,   3.95,   2.  ],\n",
       "        [640.  ,   3.5 ,   2.  ],\n",
       "        [380.  ,   2.91,   4.  ],\n",
       "        [500.  ,   3.35,   2.  ],\n",
       "        [460.  ,   2.63,   2.  ],\n",
       "        [800.  ,   3.7 ,   1.  ],\n",
       "        [740.  ,   3.52,   4.  ],\n",
       "        [560.  ,   3.07,   2.  ],\n",
       "        [540.  ,   3.16,   3.  ],\n",
       "        [560.  ,   3.49,   4.  ],\n",
       "        [680.  ,   3.08,   4.  ],\n",
       "        [740.  ,   3.31,   1.  ],\n",
       "        [480.  ,   3.58,   1.  ],\n",
       "        [640.  ,   3.94,   2.  ],\n",
       "        [780.  ,   3.87,   4.  ],\n",
       "        [500.  ,   2.81,   3.  ],\n",
       "        [720.  ,   4.  ,   3.  ],\n",
       "        [480.  ,   3.45,   2.  ],\n",
       "        [560.  ,   3.48,   2.  ],\n",
       "        [780.  ,   3.8 ,   3.  ],\n",
       "        [300.  ,   2.84,   2.  ],\n",
       "        [600.  ,   3.58,   1.  ],\n",
       "        [480.  ,   4.  ,   2.  ],\n",
       "        [540.  ,   3.28,   1.  ],\n",
       "        [680.  ,   3.64,   3.  ],\n",
       "        [540.  ,   3.13,   2.  ],\n",
       "        [540.  ,   3.81,   1.  ],\n",
       "        [620.  ,   3.58,   2.  ],\n",
       "        [540.  ,   3.17,   1.  ],\n",
       "        [640.  ,   3.19,   4.  ],\n",
       "        [460.  ,   3.77,   3.  ],\n",
       "        [540.  ,   3.38,   4.  ],\n",
       "        [800.  ,   4.  ,   3.  ],\n",
       "        [500.  ,   2.79,   4.  ],\n",
       "        [660.  ,   3.6 ,   3.  ],\n",
       "        [540.  ,   2.7 ,   2.  ],\n",
       "        [600.  ,   3.35,   2.  ],\n",
       "        [700.  ,   4.  ,   2.  ],\n",
       "        [700.  ,   3.27,   2.  ],\n",
       "        [700.  ,   2.9 ,   4.  ],\n",
       "        [520.  ,   3.51,   2.  ],\n",
       "        [440.  ,   3.22,   1.  ],\n",
       "        [540.  ,   3.5 ,   2.  ],\n",
       "        [600.  ,   3.32,   2.  ],\n",
       "        [560.  ,   3.24,   4.  ],\n",
       "        [580.  ,   3.25,   1.  ],\n",
       "        [540.  ,   3.51,   2.  ],\n",
       "        [400.  ,   3.65,   2.  ],\n",
       "        [580.  ,   3.32,   2.  ],\n",
       "        [640.  ,   3.95,   2.  ],\n",
       "        [640.  ,   3.86,   3.  ],\n",
       "        [580.  ,   3.5 ,   2.  ],\n",
       "        [780.  ,   3.63,   4.  ],\n",
       "        [340.  ,   3.  ,   2.  ],\n",
       "        [660.  ,   3.59,   3.  ],\n",
       "        [500.  ,   2.98,   3.  ],\n",
       "        [480.  ,   3.02,   1.  ],\n",
       "        [640.  ,   3.67,   3.  ],\n",
       "        [400.  ,   3.15,   2.  ],\n",
       "        [620.  ,   3.17,   2.  ],\n",
       "        [580.  ,   2.88,   2.  ],\n",
       "        [680.  ,   3.19,   4.  ],\n",
       "        [500.  ,   3.31,   3.  ],\n",
       "        [380.  ,   3.61,   3.  ],\n",
       "        [580.  ,   3.2 ,   2.  ],\n",
       "        [660.  ,   3.47,   3.  ],\n",
       "        [700.  ,   2.88,   2.  ],\n",
       "        [580.  ,   3.36,   2.  ],\n",
       "        [620.  ,   3.33,   3.  ],\n",
       "        [520.  ,   3.3 ,   2.  ],\n",
       "        [660.  ,   3.44,   2.  ],\n",
       "        [800.  ,   3.89,   2.  ],\n",
       "        [660.  ,   3.33,   2.  ],\n",
       "        [620.  ,   3.43,   3.  ],\n",
       "        [600.  ,   3.62,   3.  ],\n",
       "        [800.  ,   3.73,   1.  ],\n",
       "        [580.  ,   3.46,   4.  ],\n",
       "        [440.  ,   2.48,   4.  ],\n",
       "        [640.  ,   3.63,   1.  ],\n",
       "        [660.  ,   3.14,   2.  ],\n",
       "        [540.  ,   3.02,   4.  ],\n",
       "        [480.  ,   2.91,   1.  ],\n",
       "        [580.  ,   3.4 ,   3.  ],\n",
       "        [620.  ,   3.78,   3.  ],\n",
       "        [640.  ,   2.79,   2.  ],\n",
       "        [720.  ,   3.31,   1.  ],\n",
       "        [700.  ,   3.65,   2.  ],\n",
       "        [520.  ,   3.19,   3.  ],\n",
       "        [520.  ,   2.7 ,   3.  ],\n",
       "        [420.  ,   3.92,   4.  ],\n",
       "        [500.  ,   3.6 ,   3.  ],\n",
       "        [480.  ,   2.67,   2.  ],\n",
       "        [500.  ,   3.03,   3.  ],\n",
       "        [460.  ,   2.93,   3.  ],\n",
       "        [720.  ,   3.64,   1.  ],\n",
       "        [500.  ,   2.71,   2.  ],\n",
       "        [600.  ,   3.64,   3.  ],\n",
       "        [340.  ,   2.92,   3.  ],\n",
       "        [800.  ,   2.78,   2.  ],\n",
       "        [380.  ,   2.94,   3.  ],\n",
       "        [460.  ,   3.58,   2.  ],\n",
       "        [620.  ,   3.95,   3.  ],\n",
       "        [760.  ,   2.81,   1.  ],\n",
       "        [600.  ,   3.15,   2.  ],\n",
       "        [740.  ,   2.97,   2.  ],\n",
       "        [580.  ,   4.  ,   1.  ],\n",
       "        [660.  ,   3.32,   1.  ],\n",
       "        [700.  ,   3.52,   2.  ],\n",
       "        [500.  ,   3.13,   2.  ],\n",
       "        [680.  ,   3.27,   2.  ],\n",
       "        [580.  ,   3.8 ,   2.  ],\n",
       "        [540.  ,   3.19,   2.  ],\n",
       "        [620.  ,   3.45,   2.  ],\n",
       "        [780.  ,   3.22,   2.  ],\n",
       "        [540.  ,   3.84,   2.  ],\n",
       "        [520.  ,   2.73,   2.  ],\n",
       "        [400.  ,   3.38,   2.  ],\n",
       "        [540.  ,   3.04,   1.  ],\n",
       "        [700.  ,   4.  ,   1.  ],\n",
       "        [760.  ,   3.35,   3.  ],\n",
       "        [600.  ,   3.4 ,   3.  ],\n",
       "        [740.  ,   3.74,   4.  ],\n",
       "        [800.  ,   3.6 ,   2.  ],\n",
       "        [680.  ,   2.42,   1.  ],\n",
       "        [800.  ,   3.15,   4.  ],\n",
       "        [680.  ,   3.14,   2.  ],\n",
       "        [560.  ,   2.71,   3.  ],\n",
       "        [600.  ,   3.31,   4.  ],\n",
       "        [540.  ,   3.77,   2.  ],\n",
       "        [620.  ,   3.23,   3.  ],\n",
       "        [400.  ,   3.31,   3.  ],\n",
       "        [540.  ,   3.2 ,   1.  ],\n",
       "        [620.  ,   3.71,   1.  ],\n",
       "        [400.  ,   3.23,   4.  ],\n",
       "        [620.  ,   3.22,   2.  ],\n",
       "        [620.  ,   3.99,   3.  ],\n",
       "        [380.  ,   3.34,   3.  ],\n",
       "        [480.  ,   3.39,   4.  ],\n",
       "        [560.  ,   3.43,   3.  ],\n",
       "        [800.  ,   3.66,   1.  ],\n",
       "        [700.  ,   4.  ,   1.  ],\n",
       "        [620.  ,   3.09,   4.  ],\n",
       "        [480.  ,   2.62,   2.  ],\n",
       "        [500.  ,   3.53,   4.  ],\n",
       "        [740.  ,   3.86,   2.  ],\n",
       "        [520.  ,   2.68,   3.  ],\n",
       "        [380.  ,   3.59,   4.  ],\n",
       "        [540.  ,   3.46,   4.  ],\n",
       "        [700.  ,   3.28,   1.  ],\n",
       "        [640.  ,   4.  ,   3.  ],\n",
       "        [600.  ,   3.48,   2.  ],\n",
       "        [680.  ,   3.7 ,   2.  ],\n",
       "        [680.  ,   2.96,   3.  ],\n",
       "        [580.  ,   3.58,   1.  ],\n",
       "        [580.  ,   3.02,   2.  ],\n",
       "        [700.  ,   3.92,   2.  ],\n",
       "        [720.  ,   3.94,   3.  ],\n",
       "        [560.  ,   3.59,   2.  ],\n",
       "        [620.  ,   3.21,   4.  ],\n",
       "        [420.  ,   2.69,   2.  ],\n",
       "        [640.  ,   3.76,   3.  ],\n",
       "        [700.  ,   3.72,   2.  ],\n",
       "        [500.  ,   2.97,   4.  ],\n",
       "        [680.  ,   3.48,   3.  ]]),\n",
       " array([0., 0., 1., 0., 1., 0., 0., 0., 0., 0., 0., 0., 0., 1., 0., 1., 0.,\n",
       "        1., 0., 0., 0., 0., 0., 1., 0., 0., 0., 0., 1., 0., 0., 0., 1., 1.,\n",
       "        1., 1., 0., 0., 0., 0., 0., 1., 1., 0., 1., 0., 0., 0., 1., 1., 0.,\n",
       "        1., 0., 0., 1., 0., 0., 0., 0., 0., 0., 0., 0., 0., 1., 1., 0., 1.,\n",
       "        0., 0., 0., 0., 0., 0., 0., 0., 1., 0., 0., 0., 0., 1., 1., 0., 0.,\n",
       "        0., 0., 0., 1., 1., 0., 0., 0., 0., 1., 1., 1., 1., 0., 0., 0., 0.,\n",
       "        1., 0., 1., 1., 0., 0., 1., 0., 1., 0., 0., 0., 0., 0., 0., 0., 0.,\n",
       "        0., 0., 0., 0., 0., 1., 1., 0., 0., 1., 1., 0., 0., 1., 0., 1., 1.,\n",
       "        0., 0., 0., 0., 1., 1., 0., 0., 0., 1., 1., 0., 0., 0., 0., 0., 0.,\n",
       "        0., 1., 1., 0., 1., 0., 0., 0., 0., 0., 1., 0., 0., 1., 1., 0., 0.,\n",
       "        1., 0., 1., 0., 0., 0., 0., 1., 1., 1., 1., 0., 0., 0., 1., 1., 0.,\n",
       "        0., 1., 1., 1., 0., 0., 0., 1., 0., 0., 0., 0., 1., 0., 0., 0., 0.,\n",
       "        1., 1., 0., 0., 1., 1., 0., 0., 0., 0., 0., 1., 0., 0., 1., 0., 1.,\n",
       "        1., 0., 0., 0., 0., 0., 0., 1., 1., 0., 0., 0., 0., 0., 0., 0., 0.,\n",
       "        0., 0.]))"
      ]
     },
     "execution_count": 1,
     "metadata": {},
     "output_type": "execute_result"
    }
   ],
   "source": [
    "import numpy as np\n",
    "import matplotlib.pyplot as plt\n",
    "from sklearn.linear_model import LogisticRegression\n",
    "from sklearn.model_selection import train_test_split\n",
    "from sklearn.metrics import confusion_matrix, precision_score, recall_score, roc_curve, roc_auc_score\n",
    "from sklearn import preprocessing\n",
    "from sklearn.ensemble import RandomForestClassifier\n",
    "\n",
    "data = np.loadtxt('C:\\\\Users\\\\Dawid\\\\Desktop\\\\semestr6\\\\podstawy uczenia maszynowego\\\\Porównanie jakości klasyfikatorów\\\\logistyczna.csv', delimiter=',', skiprows=1)\n",
    "print(data)\n",
    "\n",
    "X = data[:,1:]\n",
    "y = data[:,0]\n",
    "\n",
    "X_train, X_test, y_train, y_test = train_test_split(X, y, test_size=0.4, random_state=0)\n",
    "\n",
    "X_train, y_train"
   ]
  },
  {
   "cell_type": "markdown",
   "metadata": {},
   "source": [
    "**Regresja logistyczna**"
   ]
  },
  {
   "cell_type": "code",
   "execution_count": 2,
   "metadata": {},
   "outputs": [
    {
     "name": "stdout",
     "output_type": "stream",
     "text": [
      "trening: 0.7083333333333334\n",
      "test: 0.70625\n"
     ]
    }
   ],
   "source": [
    "lr = LogisticRegression(random_state=0, solver='lbfgs', max_iter=500, multi_class='multinomial').fit(X_train, y_train)\n",
    "lr_train_acc = lr.score(X_train, y_train)\n",
    "lr_test_acc = lr.score(X_test, y_test)\n",
    "lr_train_acc, lr_test_acc\n",
    "print('trening:', lr_train_acc)\n",
    "print('test:', lr_test_acc)"
   ]
  },
  {
   "cell_type": "markdown",
   "metadata": {},
   "source": [
    "**Lasy losowe**"
   ]
  },
  {
   "cell_type": "code",
   "execution_count": 3,
   "metadata": {},
   "outputs": [
    {
     "name": "stdout",
     "output_type": "stream",
     "text": [
      "trening: 0.8\n",
      "test: 0.68125\n"
     ]
    }
   ],
   "source": [
    "rfc = RandomForestClassifier(random_state=0, n_estimators=200, max_leaf_nodes=15).fit(X_train, y_train)\n",
    "rfc_train_acc = rfc.score(X_train, y_train)\n",
    "rfc_test_acc = rfc.score(X_test, y_test)\n",
    "rfc_train_acc, rfc_test_acc\n",
    "print('trening:', rfc_train_acc)\n",
    "print('test:', rfc_test_acc)"
   ]
  },
  {
   "cell_type": "markdown",
   "metadata": {},
   "source": [
    "**Confusion matrix**"
   ]
  },
  {
   "cell_type": "code",
   "execution_count": 4,
   "metadata": {},
   "outputs": [
    {
     "data": {
      "text/plain": [
       "(array([[ 24, 103],\n",
       "        [ 14, 259]], dtype=int64),\n",
       " array([[ 38,  89],\n",
       "        [ 10, 263]], dtype=int64))"
      ]
     },
     "execution_count": 4,
     "metadata": {},
     "output_type": "execute_result"
    }
   ],
   "source": [
    "lr_prediction = lr.predict(X)\n",
    "rfc_prediction = rfc.predict(X)\n",
    "cf_matrix_lr = confusion_matrix(y, lr_prediction, labels=[1, 0])\n",
    "cf_matrix_rfc = confusion_matrix(y, rfc_prediction, labels=[1, 0])\n",
    "cf_matrix_lr, cf_matrix_rfc"
   ]
  },
  {
   "cell_type": "markdown",
   "metadata": {},
   "source": [
    "**Krzywa ROC**"
   ]
  },
  {
   "cell_type": "code",
   "execution_count": 5,
   "metadata": {},
   "outputs": [
    {
     "data": {
      "image/png": "[encoded data removed]",
      "text/plain": [
       "<Figure size 432x288 with 1 Axes>"
      ]
     },
     "metadata": {
      "needs_background": "light"
     },
     "output_type": "display_data"
    }
   ],
   "source": [
    "LRPR, LRTPR, _ = roc_curve(lr_prediction, y)\n",
    "FPR, TPR, _ = roc_curve(rfc_prediction, y)\n",
    "plt.plot(LRPR, LRTPR, linewidth=2, color='red') # ROC dla regresji logistycznej\n",
    "plt.plot(FPR, TPR, linewidth=2, color='blue') # ROC dla lasów losowych\n",
    "plt.xlabel('False Positive Rate')\n",
    "plt.ylabel('True Positive Rate')\n",
    "plt.show()"
   ]
  },
  {
   "cell_type": "markdown",
   "metadata": {},
   "source": [
    "**AUC**"
   ]
  },
  {
   "cell_type": "code",
   "execution_count": 6,
   "metadata": {},
   "outputs": [
    {
     "name": "stdout",
     "output_type": "stream",
     "text": [
      "dla regresji logistycznej:  0.6735242803140448\n",
      "dla lasów losowych 0.7694128787878787\n"
     ]
    }
   ],
   "source": [
    "AUC_lr = roc_auc_score(lr_prediction, y)\n",
    "AUC_rfc = roc_auc_score(rfc_prediction, y)\n",
    "\n",
    "AUC_lr, AUC_rfc\n",
    "print('dla regresji logistycznej: ', AUC_lr)\n",
    "print('dla lasów losowych', AUC_rfc)"
   ]
  },
  {
   "cell_type": "markdown",
   "metadata": {},
   "source": [
    "Porównując skuteczność regresji logistycznej i lasów losowych to regresja logistyczna wypada lepiej, ponieważ posiada porównywalną skuteczność dla zbioru testowego i treningowego. Z confusion matrix zaś wynika, że model lasów losowych poradził sobie lepiej z klasyfikacją całego zbioru. Krzywa ROC lasów losowych ma większe wartości na osi y od krzywej regresji logistycznej. AUC dla lasów losowych jest większy, co oznacza podobnie jak w przypadku confusion matrix że to klasyfikator lasów losoych lepiej radzi sobie z klasyfikacją całego zbioru."
   ]
  }
 ],
 "metadata": {
  "kernelspec": {
   "display_name": "Python 3",
   "language": "python",
   "name": "python3"
  },
  "language_info": {
   "codemirror_mode": {
    "name": "ipython",
    "version": 3
   },
   "file_extension": ".py",
   "mimetype": "text/x-python",
   "name": "python",
   "nbconvert_exporter": "python",
   "pygments_lexer": "ipython3",
   "version": "3.7.6"
  }
 },
 "nbformat": 4,
 "nbformat_minor": 4
}
